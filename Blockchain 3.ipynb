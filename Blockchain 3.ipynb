{
 "cells": [
  {
   "cell_type": "code",
   "execution_count": 1,
   "metadata": {},
   "outputs": [],
   "source": [
    "import hashlib\n",
    "import random"
   ]
  },
  {
   "cell_type": "code",
   "execution_count": 2,
   "metadata": {},
   "outputs": [],
   "source": [
    "import string\n",
    "import json"
   ]
  },
  {
   "cell_type": "code",
   "execution_count": 3,
   "metadata": {},
   "outputs": [],
   "source": [
    "import binascii"
   ]
  },
  {
   "cell_type": "code",
   "execution_count": 4,
   "metadata": {},
   "outputs": [],
   "source": [
    "import numpy as np\n",
    "import pandas as pd\n",
    "import pylab as pl"
   ]
  },
  {
   "cell_type": "code",
   "execution_count": 5,
   "metadata": {},
   "outputs": [],
   "source": [
    "import logging\n",
    "import datetime\n",
    "import collections"
   ]
  },
  {
   "cell_type": "code",
   "execution_count": 6,
   "metadata": {},
   "outputs": [],
   "source": [
    "import Crypto\n",
    "import Crypto.Random"
   ]
  },
  {
   "cell_type": "code",
   "execution_count": 7,
   "metadata": {},
   "outputs": [],
   "source": [
    "from Crypto.Hash import SHA\n",
    "from Crypto.PublicKey import RSA\n",
    "from Crypto.Signature import PKCS1_v1_5"
   ]
  },
  {
   "cell_type": "code",
   "execution_count": 8,
   "metadata": {},
   "outputs": [],
   "source": [
    "class Client:\n",
    "    def __init__(self):\n",
    "        random = Crypto.Random.new().read\n",
    "        self._private_key = RSA.generate(1024, random)\n",
    "        self._public_key = self._private_key.publickey()\n",
    "        self._signer = PKCS1_v1_5.new(self._private_key)\n",
    "\n",
    "    @property\n",
    "    def identity(self):\n",
    "        return binascii.hexlify(self._public_key.exportKey(format='DER')).decode('ascii')"
   ]
  },
  {
   "cell_type": "code",
   "execution_count": 9,
   "metadata": {},
   "outputs": [
    {
     "name": "stdout",
     "output_type": "stream",
     "text": [
      "30819f300d06092a864886f70d010101050003818d0030818902818100b4c37f27f0c3c3b2ff7c4c3ea7a210e7302435f61d9db7092a07a97bb34d24456bbdc12e40bf1153ccde64d55bf8c94a3332df14b3f2127633e31d9e1f114df1109daa3fd2930abcedf9b748b69230bc05dcec142611723cb1d6ee749052f30a0857cd05f51a9eaca9c2dbf52051dee7946e1ad52722ec0b20bb97527d8eab190203010001\n"
     ]
    }
   ],
   "source": [
    "Nishtha = Client()\n",
    "print (Nishtha.identity)"
   ]
  },
  {
   "cell_type": "code",
   "execution_count": 10,
   "metadata": {},
   "outputs": [],
   "source": [
    "class Transaction:\n",
    "    def __init__(self, sender, recipient, value):\n",
    "        self.sender = sender\n",
    "        self.recipient = recipient\n",
    "        self.value = value\n",
    "        self.time = datetime.datetime.now()\n",
    "        \n",
    "    def to_dict(self):\n",
    "        if self.sender == \"Genesis\":\n",
    "            identity = \"Genesis\"\n",
    "        else:\n",
    "            identity = self.sender.identity\n",
    "\n",
    "        return collections.OrderedDict({'sender': identity,'recipient': self.recipient,'value': self.value,'time' : self.time})\n",
    "    \n",
    "    def sign_transaction(self):\n",
    "        private_key = self.sender._private_key\n",
    "        signer = PKCS1_v1_5.new(private_key)\n",
    "        h = SHA.new(str(self.to_dict()).encode('utf8'))\n",
    "        return binascii.hexlify(signer.sign(h)).decode('ascii')\n",
    "    "
   ]
  },
  {
   "cell_type": "code",
   "execution_count": 11,
   "metadata": {},
   "outputs": [],
   "source": [
    "Nishtha = Client()\n",
    "Sakshi = Client()\n",
    "Tanishq= Client()\n",
    "Harshit = Client()\n",
    "Selena=Client()\n",
    "Elizabeth=Client()"
   ]
  },
  {
   "cell_type": "code",
   "execution_count": 12,
   "metadata": {},
   "outputs": [
    {
     "name": "stdout",
     "output_type": "stream",
     "text": [
      "2d86d76a55a501359242ddbd5f47c5a49058377e06681f4ab9b06b9df2ef51f554f08a16182fd0db9c80d16f8d8d2674e8c13d413a7382b2f00d3b505ce50b22daca5861159aaee90138e1cad06b02b0013bb78b54367d6ec64e670d5ebe098c02e4b2feb4c8de50d0f719d51ad8c8d1d2c9c5e816f78b53c1475104429680b9\n"
     ]
    }
   ],
   "source": [
    "t = Transaction(Nishtha,Sakshi.identity,5.0)\n",
    "t2 = Transaction(Nishtha,Tanishq.identity,5.0)\n",
    "signature = t.sign_transaction()\n",
    "print (signature)"
   ]
  },
  {
   "cell_type": "code",
   "execution_count": 13,
   "metadata": {},
   "outputs": [],
   "source": [
    "def display_transaction(transaction):\n",
    "    dict = transaction.to_dict()\n",
    "    print (\"sender: \" + dict['sender'])\n",
    "    print ('-----')\n",
    "    print (\"recipient: \" + dict['recipient'])\n",
    "    print ('-----')\n",
    "    print (\"value: \" + str(dict['value']))\n",
    "    print ('-----')\n",
    "    print (\"time: \" + str(dict['time']))\n",
    "    print ('-----')"
   ]
  },
  {
   "cell_type": "code",
   "execution_count": 14,
   "metadata": {},
   "outputs": [],
   "source": [
    "transactions = []"
   ]
  },
  {
   "cell_type": "code",
   "execution_count": 15,
   "metadata": {},
   "outputs": [],
   "source": [
    "t1 = Transaction( Nishtha,Sakshi.identity, 15.0)\n",
    "t1.sign_transaction()\n",
    "transactions.append(t1)"
   ]
  },
  {
   "cell_type": "code",
   "execution_count": 16,
   "metadata": {},
   "outputs": [],
   "source": [
    "t2 = Transaction( Nishtha, Tanishq.identity, 6.0)\n",
    "t2.sign_transaction()\n",
    "transactions.append(t2)\n",
    "t3 = Transaction( Tanishq, Sakshi.identity, 2.0)\n",
    "t3.sign_transaction()\n",
    "transactions.append(t3)\n",
    "t4 = Transaction( Tanishq,Nishtha.identity, 4.0)\n",
    "t4.sign_transaction()\n",
    "transactions.append(t4)\n",
    "t5 = Transaction(Nishtha, Sakshi.identity, 7.0)\n",
    "t5.sign_transaction()\n",
    "transactions.append(t5)\n",
    "t6 = Transaction( Nishtha, Harshit.identity, 3.0)\n",
    "t6.sign_transaction()\n",
    "transactions.append(t6)\n",
    "t7 = Transaction(Harshit, Selena.identity, 8.0)\n",
    "t7.sign_transaction()\n",
    "transactions.append(t7)\n",
    "t8 = Transaction(Elizabeth,Selena.identity, 1.0)\n",
    "t8.sign_transaction()\n",
    "transactions.append(t8)\n",
    "t9 = Transaction(Selena,Harshit.identity, 5.0)\n",
    "t9.sign_transaction()\n",
    "transactions.append(t9)\n",
    "t10 = Transaction(Nishtha,   Elizabeth.identity, 3.0)\n",
    "t10.sign_transaction()\n",
    "transactions.append(t10)"
   ]
  },
  {
   "cell_type": "code",
   "execution_count": 17,
   "metadata": {},
   "outputs": [
    {
     "name": "stdout",
     "output_type": "stream",
     "text": [
      "sender: 30819f300d06092a864886f70d010101050003818d0030818902818100e6bc2540132ba2b41c3d6a291b595fbafd6b24f6fec52f539f09ecfc37fc0f59e3bcfd718d2bacc1db502b85da95a718417739617df0a4387b7e9ffea7130947c53e24acb2581e6fb5f9e6593e7e4bc381239192249b6aefe86d49a1fcaf321d962676c5891d613d5bf72961728e2503ddb8b0c903760c5a831fa69f4beeb7890203010001\n",
      "-----\n",
      "recipient: 30819f300d06092a864886f70d010101050003818d0030818902818100b36aa58206e09699dc29068d951bc2f5988d9f8066f1de044d1af332d9f35b7079143eb6f3e95c59361a96dad49edba1409aaef6177f3b3d2acc8c8a715e75ddc601e582940a0b57e0b3eae82992d89d0798a31e6520e891fedb9505138cb850425163c1d2eb33f02c0cf376f5d27314b0d3f3eba05f989bdcd93b5443ce79cf0203010001\n",
      "-----\n",
      "value: 15.0\n",
      "-----\n",
      "time: 2021-02-10 16:36:40.888915\n",
      "-----\n",
      "--------------\n",
      "sender: 30819f300d06092a864886f70d010101050003818d0030818902818100e6bc2540132ba2b41c3d6a291b595fbafd6b24f6fec52f539f09ecfc37fc0f59e3bcfd718d2bacc1db502b85da95a718417739617df0a4387b7e9ffea7130947c53e24acb2581e6fb5f9e6593e7e4bc381239192249b6aefe86d49a1fcaf321d962676c5891d613d5bf72961728e2503ddb8b0c903760c5a831fa69f4beeb7890203010001\n",
      "-----\n",
      "recipient: 30819f300d06092a864886f70d010101050003818d0030818902818100b93d1033e1c394ac67d494f2204da985b2a423c16e1c20d6f62bdb57035dfe878edc810d4c117dc7c975b8adf47fcc9cce57952b8edf245a139d75a40b5ce2e8a00c7dfcfe0aca67024c8bd3a417cc6fa96a338a285cb5eb391a47d1cf8ad6f39e07a7660af276250af721344df38c12c7c30fa6c8bea592b8902619a761627d0203010001\n",
      "-----\n",
      "value: 6.0\n",
      "-----\n",
      "time: 2021-02-10 16:36:41.111958\n",
      "-----\n",
      "--------------\n",
      "sender: 30819f300d06092a864886f70d010101050003818d0030818902818100b93d1033e1c394ac67d494f2204da985b2a423c16e1c20d6f62bdb57035dfe878edc810d4c117dc7c975b8adf47fcc9cce57952b8edf245a139d75a40b5ce2e8a00c7dfcfe0aca67024c8bd3a417cc6fa96a338a285cb5eb391a47d1cf8ad6f39e07a7660af276250af721344df38c12c7c30fa6c8bea592b8902619a761627d0203010001\n",
      "-----\n",
      "recipient: 30819f300d06092a864886f70d010101050003818d0030818902818100b36aa58206e09699dc29068d951bc2f5988d9f8066f1de044d1af332d9f35b7079143eb6f3e95c59361a96dad49edba1409aaef6177f3b3d2acc8c8a715e75ddc601e582940a0b57e0b3eae82992d89d0798a31e6520e891fedb9505138cb850425163c1d2eb33f02c0cf376f5d27314b0d3f3eba05f989bdcd93b5443ce79cf0203010001\n",
      "-----\n",
      "value: 2.0\n",
      "-----\n",
      "time: 2021-02-10 16:36:41.117941\n",
      "-----\n",
      "--------------\n",
      "sender: 30819f300d06092a864886f70d010101050003818d0030818902818100b93d1033e1c394ac67d494f2204da985b2a423c16e1c20d6f62bdb57035dfe878edc810d4c117dc7c975b8adf47fcc9cce57952b8edf245a139d75a40b5ce2e8a00c7dfcfe0aca67024c8bd3a417cc6fa96a338a285cb5eb391a47d1cf8ad6f39e07a7660af276250af721344df38c12c7c30fa6c8bea592b8902619a761627d0203010001\n",
      "-----\n",
      "recipient: 30819f300d06092a864886f70d010101050003818d0030818902818100e6bc2540132ba2b41c3d6a291b595fbafd6b24f6fec52f539f09ecfc37fc0f59e3bcfd718d2bacc1db502b85da95a718417739617df0a4387b7e9ffea7130947c53e24acb2581e6fb5f9e6593e7e4bc381239192249b6aefe86d49a1fcaf321d962676c5891d613d5bf72961728e2503ddb8b0c903760c5a831fa69f4beeb7890203010001\n",
      "-----\n",
      "value: 4.0\n",
      "-----\n",
      "time: 2021-02-10 16:36:41.121931\n",
      "-----\n",
      "--------------\n",
      "sender: 30819f300d06092a864886f70d010101050003818d0030818902818100e6bc2540132ba2b41c3d6a291b595fbafd6b24f6fec52f539f09ecfc37fc0f59e3bcfd718d2bacc1db502b85da95a718417739617df0a4387b7e9ffea7130947c53e24acb2581e6fb5f9e6593e7e4bc381239192249b6aefe86d49a1fcaf321d962676c5891d613d5bf72961728e2503ddb8b0c903760c5a831fa69f4beeb7890203010001\n",
      "-----\n",
      "recipient: 30819f300d06092a864886f70d010101050003818d0030818902818100b36aa58206e09699dc29068d951bc2f5988d9f8066f1de044d1af332d9f35b7079143eb6f3e95c59361a96dad49edba1409aaef6177f3b3d2acc8c8a715e75ddc601e582940a0b57e0b3eae82992d89d0798a31e6520e891fedb9505138cb850425163c1d2eb33f02c0cf376f5d27314b0d3f3eba05f989bdcd93b5443ce79cf0203010001\n",
      "-----\n",
      "value: 7.0\n",
      "-----\n",
      "time: 2021-02-10 16:36:41.125929\n",
      "-----\n",
      "--------------\n",
      "sender: 30819f300d06092a864886f70d010101050003818d0030818902818100e6bc2540132ba2b41c3d6a291b595fbafd6b24f6fec52f539f09ecfc37fc0f59e3bcfd718d2bacc1db502b85da95a718417739617df0a4387b7e9ffea7130947c53e24acb2581e6fb5f9e6593e7e4bc381239192249b6aefe86d49a1fcaf321d962676c5891d613d5bf72961728e2503ddb8b0c903760c5a831fa69f4beeb7890203010001\n",
      "-----\n",
      "recipient: 30819f300d06092a864886f70d010101050003818d0030818902818100ad5e2a9f0fc8178b5b0db232374a6d9ed1165ea441a6cf39667eb2aae77116dbcbbd080b3dbd77eec5d411c884400653b6cdbb2023e7146852efe3653f52e35b539a93436822b6e81e2cc1ea7ce78111c03ced7015f26f16439d2ef8aae69717d872744eb64de346620b5a744db22939a7f22f48d4e052884e10ff0155b83ec90203010001\n",
      "-----\n",
      "value: 3.0\n",
      "-----\n",
      "time: 2021-02-10 16:36:41.128944\n",
      "-----\n",
      "--------------\n",
      "sender: 30819f300d06092a864886f70d010101050003818d0030818902818100ad5e2a9f0fc8178b5b0db232374a6d9ed1165ea441a6cf39667eb2aae77116dbcbbd080b3dbd77eec5d411c884400653b6cdbb2023e7146852efe3653f52e35b539a93436822b6e81e2cc1ea7ce78111c03ced7015f26f16439d2ef8aae69717d872744eb64de346620b5a744db22939a7f22f48d4e052884e10ff0155b83ec90203010001\n",
      "-----\n",
      "recipient: 30819f300d06092a864886f70d010101050003818d00308189028181009c25cc73c60423bd346ef3e5e3827d1be17651481e44350216471f1296c875c9d2d64e0cce0a6b7d0ec7bb322296741050b92f661ae32bf3bd1a59281bc695a37809836b6e0109a2cbf66fb88b095d90b472ba0a2696b7f0e192b6ff3c5bf1b2a28bb8d7e25c1497be670f9c98e6e7c3b04170122b7a6169d57da58977daf1c90203010001\n",
      "-----\n",
      "value: 8.0\n",
      "-----\n",
      "time: 2021-02-10 16:36:41.133898\n",
      "-----\n",
      "--------------\n",
      "sender: 30819f300d06092a864886f70d010101050003818d0030818902818100c5395b48968850f48a9e736655b1011775821b16dd5022b831e7236c2206477e13eb9341a2930389030598b031ec9731f1bd3b58b7ccc44ae6ee10b22eb0ad30b2fc3ae8d00b27e250b53d34ad2a88641198255e2f725bdfaa16b2e093fde1bd52c53f1678ead2feca52c2fbfae4ced0029db964136b2b3acdce9b4aa327a3ed0203010001\n",
      "-----\n",
      "recipient: 30819f300d06092a864886f70d010101050003818d00308189028181009c25cc73c60423bd346ef3e5e3827d1be17651481e44350216471f1296c875c9d2d64e0cce0a6b7d0ec7bb322296741050b92f661ae32bf3bd1a59281bc695a37809836b6e0109a2cbf66fb88b095d90b472ba0a2696b7f0e192b6ff3c5bf1b2a28bb8d7e25c1497be670f9c98e6e7c3b04170122b7a6169d57da58977daf1c90203010001\n",
      "-----\n",
      "value: 1.0\n",
      "-----\n",
      "time: 2021-02-10 16:36:41.137887\n",
      "-----\n",
      "--------------\n",
      "sender: 30819f300d06092a864886f70d010101050003818d00308189028181009c25cc73c60423bd346ef3e5e3827d1be17651481e44350216471f1296c875c9d2d64e0cce0a6b7d0ec7bb322296741050b92f661ae32bf3bd1a59281bc695a37809836b6e0109a2cbf66fb88b095d90b472ba0a2696b7f0e192b6ff3c5bf1b2a28bb8d7e25c1497be670f9c98e6e7c3b04170122b7a6169d57da58977daf1c90203010001\n",
      "-----\n",
      "recipient: 30819f300d06092a864886f70d010101050003818d0030818902818100ad5e2a9f0fc8178b5b0db232374a6d9ed1165ea441a6cf39667eb2aae77116dbcbbd080b3dbd77eec5d411c884400653b6cdbb2023e7146852efe3653f52e35b539a93436822b6e81e2cc1ea7ce78111c03ced7015f26f16439d2ef8aae69717d872744eb64de346620b5a744db22939a7f22f48d4e052884e10ff0155b83ec90203010001\n",
      "-----\n",
      "value: 5.0\n",
      "-----\n",
      "time: 2021-02-10 16:36:41.141876\n",
      "-----\n",
      "--------------\n",
      "sender: 30819f300d06092a864886f70d010101050003818d0030818902818100e6bc2540132ba2b41c3d6a291b595fbafd6b24f6fec52f539f09ecfc37fc0f59e3bcfd718d2bacc1db502b85da95a718417739617df0a4387b7e9ffea7130947c53e24acb2581e6fb5f9e6593e7e4bc381239192249b6aefe86d49a1fcaf321d962676c5891d613d5bf72961728e2503ddb8b0c903760c5a831fa69f4beeb7890203010001\n",
      "-----\n",
      "recipient: 30819f300d06092a864886f70d010101050003818d0030818902818100c5395b48968850f48a9e736655b1011775821b16dd5022b831e7236c2206477e13eb9341a2930389030598b031ec9731f1bd3b58b7ccc44ae6ee10b22eb0ad30b2fc3ae8d00b27e250b53d34ad2a88641198255e2f725bdfaa16b2e093fde1bd52c53f1678ead2feca52c2fbfae4ced0029db964136b2b3acdce9b4aa327a3ed0203010001\n",
      "-----\n",
      "value: 3.0\n",
      "-----\n",
      "time: 2021-02-10 16:36:41.145866\n",
      "-----\n",
      "--------------\n"
     ]
    }
   ],
   "source": [
    "for transaction in transactions:\n",
    "    display_transaction (transaction)\n",
    "    print ('--------------')\n"
   ]
  },
  {
   "cell_type": "code",
   "execution_count": 18,
   "metadata": {},
   "outputs": [],
   "source": [
    "class Block:\n",
    "    last_block_hash = \"\"\n",
    "    def __init__(self):\n",
    "        self.verified_transactions = []\n",
    "        self.previous_block_hash = \"\"\n",
    "        self.Nonce = \"\""
   ]
  },
  {
   "cell_type": "code",
   "execution_count": 19,
   "metadata": {},
   "outputs": [],
   "source": [
    "Nishtha=Client()"
   ]
  },
  {
   "cell_type": "code",
   "execution_count": 20,
   "metadata": {},
   "outputs": [],
   "source": [
    "t0 = Transaction ( \"Genesis\", Nishtha.identity, 500.0)"
   ]
  },
  {
   "cell_type": "code",
   "execution_count": 21,
   "metadata": {},
   "outputs": [],
   "source": [
    "block0 = Block()"
   ]
  },
  {
   "cell_type": "code",
   "execution_count": 22,
   "metadata": {},
   "outputs": [],
   "source": [
    "block0.previous_block_hash = None\n",
    "Nonce = None"
   ]
  },
  {
   "cell_type": "code",
   "execution_count": 23,
   "metadata": {},
   "outputs": [],
   "source": [
    "block0.verified_transactions.append (t0)"
   ]
  },
  {
   "cell_type": "code",
   "execution_count": 24,
   "metadata": {},
   "outputs": [],
   "source": [
    "digest = hash (block0)\n",
    "last_block_hash = digest"
   ]
  },
  {
   "cell_type": "code",
   "execution_count": 25,
   "metadata": {},
   "outputs": [],
   "source": [
    "SATANCoins = []"
   ]
  },
  {
   "cell_type": "code",
   "execution_count": 26,
   "metadata": {},
   "outputs": [],
   "source": [
    "def dump_blockchain (self):\n",
    "    print (\"Number of blocks in the chain: \" + str(len (self)))\n",
    "    for x in range (len(SATANCoins)):\n",
    "        block_temp = SATANCoins[x]\n",
    "        print (\"block # \" + str(x))\n",
    "        for transaction in block_temp.verified_transactions:\n",
    "            display_transaction (transaction)\n",
    "            print ('--------------')\n",
    "    print ('=====================================')"
   ]
  },
  {
   "cell_type": "code",
   "execution_count": 27,
   "metadata": {},
   "outputs": [],
   "source": [
    "SATANCoins.append (block0)"
   ]
  },
  {
   "cell_type": "code",
   "execution_count": 28,
   "metadata": {},
   "outputs": [
    {
     "name": "stdout",
     "output_type": "stream",
     "text": [
      "Number of blocks in the chain: 1\n",
      "block # 0\n",
      "sender: Genesis\n",
      "-----\n",
      "recipient: 30819f300d06092a864886f70d010101050003818d0030818902818100e72d292d67072e22bc193af929a0033b0f23eb311b1a9625635db7cd83befb44c7b8b1776a45ef1b5c421a220351b47bf6b8313058757398e9626bf2f1c3b1af3d3724dbca2fb4ae5dd28360c66a9c8a74ae7be2f43be0e3a6e0be0a6871c27c0e0647e830faa758c34c87dffe72e251fcfce22da880e571f8e52cccdd052ae30203010001\n",
      "-----\n",
      "value: 500.0\n",
      "-----\n",
      "time: 2021-02-10 16:36:42.452387\n",
      "-----\n",
      "--------------\n",
      "=====================================\n"
     ]
    }
   ],
   "source": [
    "dump_blockchain(SATANCoins)"
   ]
  },
  {
   "cell_type": "code",
   "execution_count": 29,
   "metadata": {},
   "outputs": [],
   "source": [
    "def sha256(message):\n",
    "    return hashlib.sha256(message.encode('ascii')).hexdigest()"
   ]
  },
  {
   "cell_type": "code",
   "execution_count": 30,
   "metadata": {},
   "outputs": [],
   "source": [
    "def mine(message, difficulty=1):\n",
    "    assert difficulty >= 1\n",
    "    prefix = '1' * difficulty\n",
    "    for i in range(1000):\n",
    "        digest = sha256(str(hash(message)) + str(i))\n",
    "        if digest.startswith(prefix):\n",
    "            print (\"after \" + str(i) + \" iterations found nonce: \"+ digest)\n",
    "            return digest"
   ]
  },
  {
   "cell_type": "code",
   "execution_count": 31,
   "metadata": {},
   "outputs": [
    {
     "name": "stdout",
     "output_type": "stream",
     "text": [
      "after 418 iterations found nonce: 11eadc91897fbb190ed0c933e6d0d1966fd94a7b85013117f3abd622c1995f2b\n"
     ]
    },
    {
     "data": {
      "text/plain": [
       "'11eadc91897fbb190ed0c933e6d0d1966fd94a7b85013117f3abd622c1995f2b'"
      ]
     },
     "execution_count": 31,
     "metadata": {},
     "output_type": "execute_result"
    }
   ],
   "source": [
    "mine (\"test message\", 2)"
   ]
  },
  {
   "cell_type": "code",
   "execution_count": 32,
   "metadata": {},
   "outputs": [],
   "source": [
    "last_transaction_index = 0"
   ]
  },
  {
   "cell_type": "code",
   "execution_count": 33,
   "metadata": {},
   "outputs": [],
   "source": [
    "block = Block()"
   ]
  },
  {
   "cell_type": "code",
   "execution_count": 34,
   "metadata": {},
   "outputs": [],
   "source": [
    "for i in range(3):\n",
    "    temp_transaction = transactions[last_transaction_index]\n",
    "    block.verified_transactions.append (temp_transaction)\n",
    "    last_transaction_index += 1"
   ]
  },
  {
   "cell_type": "code",
   "execution_count": 35,
   "metadata": {},
   "outputs": [
    {
     "name": "stdout",
     "output_type": "stream",
     "text": [
      "after 32 iterations found nonce: 112bbc7ea7b261aaede346667147dea930a6ffb7e358f676152400a02d80bfe4\n"
     ]
    }
   ],
   "source": [
    "#Nishtha adds the block\n",
    "block.previous_block_hash = last_block_hash\n",
    "block.Nonce = mine (block, 2)\n",
    "digest = hash (block)\n",
    "SATANCoins.append (block)\n",
    "last_block_hash = digest"
   ]
  },
  {
   "cell_type": "code",
   "execution_count": 36,
   "metadata": {},
   "outputs": [],
   "source": [
    "# Now Sakshi adds a block\n",
    "block = Block()\n",
    "for i in range(3):\n",
    "    temp_transaction = transactions[last_transaction_index]\n",
    "    block.verified_transactions.append (temp_transaction)\n",
    "    last_transaction_index += 1"
   ]
  },
  {
   "cell_type": "code",
   "execution_count": 37,
   "metadata": {},
   "outputs": [
    {
     "name": "stdout",
     "output_type": "stream",
     "text": [
      "after 173 iterations found nonce: 117b88cdf90f3ba4f55c3316a7317c24f34bc77e642d8518e65fe0c82dd1bea1\n"
     ]
    }
   ],
   "source": [
    "block.previous_block_hash = last_block_hash\n",
    "block.Nonce = mine (block, 2)\n",
    "digest = hash (block)\n",
    "SATANCoins.append (block)\n",
    "last_block_hash = digest"
   ]
  },
  {
   "cell_type": "code",
   "execution_count": 38,
   "metadata": {},
   "outputs": [
    {
     "name": "stdout",
     "output_type": "stream",
     "text": [
      "sender: 30819f300d06092a864886f70d010101050003818d0030818902818100ad5e2a9f0fc8178b5b0db232374a6d9ed1165ea441a6cf39667eb2aae77116dbcbbd080b3dbd77eec5d411c884400653b6cdbb2023e7146852efe3653f52e35b539a93436822b6e81e2cc1ea7ce78111c03ced7015f26f16439d2ef8aae69717d872744eb64de346620b5a744db22939a7f22f48d4e052884e10ff0155b83ec90203010001\n",
      "-----\n",
      "recipient: 30819f300d06092a864886f70d010101050003818d00308189028181009c25cc73c60423bd346ef3e5e3827d1be17651481e44350216471f1296c875c9d2d64e0cce0a6b7d0ec7bb322296741050b92f661ae32bf3bd1a59281bc695a37809836b6e0109a2cbf66fb88b095d90b472ba0a2696b7f0e192b6ff3c5bf1b2a28bb8d7e25c1497be670f9c98e6e7c3b04170122b7a6169d57da58977daf1c90203010001\n",
      "-----\n",
      "value: 8.0\n",
      "-----\n",
      "time: 2021-02-10 16:36:41.133898\n",
      "-----\n",
      "sender: 30819f300d06092a864886f70d010101050003818d0030818902818100c5395b48968850f48a9e736655b1011775821b16dd5022b831e7236c2206477e13eb9341a2930389030598b031ec9731f1bd3b58b7ccc44ae6ee10b22eb0ad30b2fc3ae8d00b27e250b53d34ad2a88641198255e2f725bdfaa16b2e093fde1bd52c53f1678ead2feca52c2fbfae4ced0029db964136b2b3acdce9b4aa327a3ed0203010001\n",
      "-----\n",
      "recipient: 30819f300d06092a864886f70d010101050003818d00308189028181009c25cc73c60423bd346ef3e5e3827d1be17651481e44350216471f1296c875c9d2d64e0cce0a6b7d0ec7bb322296741050b92f661ae32bf3bd1a59281bc695a37809836b6e0109a2cbf66fb88b095d90b472ba0a2696b7f0e192b6ff3c5bf1b2a28bb8d7e25c1497be670f9c98e6e7c3b04170122b7a6169d57da58977daf1c90203010001\n",
      "-----\n",
      "value: 1.0\n",
      "-----\n",
      "time: 2021-02-10 16:36:41.137887\n",
      "-----\n",
      "sender: 30819f300d06092a864886f70d010101050003818d00308189028181009c25cc73c60423bd346ef3e5e3827d1be17651481e44350216471f1296c875c9d2d64e0cce0a6b7d0ec7bb322296741050b92f661ae32bf3bd1a59281bc695a37809836b6e0109a2cbf66fb88b095d90b472ba0a2696b7f0e192b6ff3c5bf1b2a28bb8d7e25c1497be670f9c98e6e7c3b04170122b7a6169d57da58977daf1c90203010001\n",
      "-----\n",
      "recipient: 30819f300d06092a864886f70d010101050003818d0030818902818100ad5e2a9f0fc8178b5b0db232374a6d9ed1165ea441a6cf39667eb2aae77116dbcbbd080b3dbd77eec5d411c884400653b6cdbb2023e7146852efe3653f52e35b539a93436822b6e81e2cc1ea7ce78111c03ced7015f26f16439d2ef8aae69717d872744eb64de346620b5a744db22939a7f22f48d4e052884e10ff0155b83ec90203010001\n",
      "-----\n",
      "value: 5.0\n",
      "-----\n",
      "time: 2021-02-10 16:36:41.141876\n",
      "-----\n"
     ]
    }
   ],
   "source": [
    "#Now say Tanishq adds a block\n",
    "block = Block()\n",
    "for i in range(3):\n",
    "    temp_transaction = transactions[last_transaction_index]\n",
    "    display_transaction (temp_transaction)\n",
    "    block.verified_transactions.append (temp_transaction)\n",
    "    last_transaction_index += 1"
   ]
  },
  {
   "cell_type": "code",
   "execution_count": 39,
   "metadata": {},
   "outputs": [
    {
     "name": "stdout",
     "output_type": "stream",
     "text": [
      "after 140 iterations found nonce: 11e4db3db6d649b4a5264c57e4914e3a77e6dce92e56c2c09174226e0b1f77f1\n"
     ]
    }
   ],
   "source": [
    "block.previous_block_hash = last_block_hash\n",
    "block.Nonce = mine (block, 2)\n",
    "digest = hash (block)\n",
    "SATANCoins.append (block)\n",
    "last_block_hash = digest"
   ]
  },
  {
   "cell_type": "code",
   "execution_count": 40,
   "metadata": {},
   "outputs": [
    {
     "name": "stdout",
     "output_type": "stream",
     "text": [
      "Number of blocks in the chain: 4\n",
      "block # 0\n",
      "sender: Genesis\n",
      "-----\n",
      "recipient: 30819f300d06092a864886f70d010101050003818d0030818902818100e72d292d67072e22bc193af929a0033b0f23eb311b1a9625635db7cd83befb44c7b8b1776a45ef1b5c421a220351b47bf6b8313058757398e9626bf2f1c3b1af3d3724dbca2fb4ae5dd28360c66a9c8a74ae7be2f43be0e3a6e0be0a6871c27c0e0647e830faa758c34c87dffe72e251fcfce22da880e571f8e52cccdd052ae30203010001\n",
      "-----\n",
      "value: 500.0\n",
      "-----\n",
      "time: 2021-02-10 16:36:42.452387\n",
      "-----\n",
      "--------------\n",
      "block # 1\n",
      "sender: 30819f300d06092a864886f70d010101050003818d0030818902818100e6bc2540132ba2b41c3d6a291b595fbafd6b24f6fec52f539f09ecfc37fc0f59e3bcfd718d2bacc1db502b85da95a718417739617df0a4387b7e9ffea7130947c53e24acb2581e6fb5f9e6593e7e4bc381239192249b6aefe86d49a1fcaf321d962676c5891d613d5bf72961728e2503ddb8b0c903760c5a831fa69f4beeb7890203010001\n",
      "-----\n",
      "recipient: 30819f300d06092a864886f70d010101050003818d0030818902818100b36aa58206e09699dc29068d951bc2f5988d9f8066f1de044d1af332d9f35b7079143eb6f3e95c59361a96dad49edba1409aaef6177f3b3d2acc8c8a715e75ddc601e582940a0b57e0b3eae82992d89d0798a31e6520e891fedb9505138cb850425163c1d2eb33f02c0cf376f5d27314b0d3f3eba05f989bdcd93b5443ce79cf0203010001\n",
      "-----\n",
      "value: 15.0\n",
      "-----\n",
      "time: 2021-02-10 16:36:40.888915\n",
      "-----\n",
      "--------------\n",
      "sender: 30819f300d06092a864886f70d010101050003818d0030818902818100e6bc2540132ba2b41c3d6a291b595fbafd6b24f6fec52f539f09ecfc37fc0f59e3bcfd718d2bacc1db502b85da95a718417739617df0a4387b7e9ffea7130947c53e24acb2581e6fb5f9e6593e7e4bc381239192249b6aefe86d49a1fcaf321d962676c5891d613d5bf72961728e2503ddb8b0c903760c5a831fa69f4beeb7890203010001\n",
      "-----\n",
      "recipient: 30819f300d06092a864886f70d010101050003818d0030818902818100b93d1033e1c394ac67d494f2204da985b2a423c16e1c20d6f62bdb57035dfe878edc810d4c117dc7c975b8adf47fcc9cce57952b8edf245a139d75a40b5ce2e8a00c7dfcfe0aca67024c8bd3a417cc6fa96a338a285cb5eb391a47d1cf8ad6f39e07a7660af276250af721344df38c12c7c30fa6c8bea592b8902619a761627d0203010001\n",
      "-----\n",
      "value: 6.0\n",
      "-----\n",
      "time: 2021-02-10 16:36:41.111958\n",
      "-----\n",
      "--------------\n",
      "sender: 30819f300d06092a864886f70d010101050003818d0030818902818100b93d1033e1c394ac67d494f2204da985b2a423c16e1c20d6f62bdb57035dfe878edc810d4c117dc7c975b8adf47fcc9cce57952b8edf245a139d75a40b5ce2e8a00c7dfcfe0aca67024c8bd3a417cc6fa96a338a285cb5eb391a47d1cf8ad6f39e07a7660af276250af721344df38c12c7c30fa6c8bea592b8902619a761627d0203010001\n",
      "-----\n",
      "recipient: 30819f300d06092a864886f70d010101050003818d0030818902818100b36aa58206e09699dc29068d951bc2f5988d9f8066f1de044d1af332d9f35b7079143eb6f3e95c59361a96dad49edba1409aaef6177f3b3d2acc8c8a715e75ddc601e582940a0b57e0b3eae82992d89d0798a31e6520e891fedb9505138cb850425163c1d2eb33f02c0cf376f5d27314b0d3f3eba05f989bdcd93b5443ce79cf0203010001\n",
      "-----\n",
      "value: 2.0\n",
      "-----\n",
      "time: 2021-02-10 16:36:41.117941\n",
      "-----\n",
      "--------------\n",
      "block # 2\n",
      "sender: 30819f300d06092a864886f70d010101050003818d0030818902818100b93d1033e1c394ac67d494f2204da985b2a423c16e1c20d6f62bdb57035dfe878edc810d4c117dc7c975b8adf47fcc9cce57952b8edf245a139d75a40b5ce2e8a00c7dfcfe0aca67024c8bd3a417cc6fa96a338a285cb5eb391a47d1cf8ad6f39e07a7660af276250af721344df38c12c7c30fa6c8bea592b8902619a761627d0203010001\n",
      "-----\n",
      "recipient: 30819f300d06092a864886f70d010101050003818d0030818902818100e6bc2540132ba2b41c3d6a291b595fbafd6b24f6fec52f539f09ecfc37fc0f59e3bcfd718d2bacc1db502b85da95a718417739617df0a4387b7e9ffea7130947c53e24acb2581e6fb5f9e6593e7e4bc381239192249b6aefe86d49a1fcaf321d962676c5891d613d5bf72961728e2503ddb8b0c903760c5a831fa69f4beeb7890203010001\n",
      "-----\n",
      "value: 4.0\n",
      "-----\n",
      "time: 2021-02-10 16:36:41.121931\n",
      "-----\n",
      "--------------\n",
      "sender: 30819f300d06092a864886f70d010101050003818d0030818902818100e6bc2540132ba2b41c3d6a291b595fbafd6b24f6fec52f539f09ecfc37fc0f59e3bcfd718d2bacc1db502b85da95a718417739617df0a4387b7e9ffea7130947c53e24acb2581e6fb5f9e6593e7e4bc381239192249b6aefe86d49a1fcaf321d962676c5891d613d5bf72961728e2503ddb8b0c903760c5a831fa69f4beeb7890203010001\n",
      "-----\n",
      "recipient: 30819f300d06092a864886f70d010101050003818d0030818902818100b36aa58206e09699dc29068d951bc2f5988d9f8066f1de044d1af332d9f35b7079143eb6f3e95c59361a96dad49edba1409aaef6177f3b3d2acc8c8a715e75ddc601e582940a0b57e0b3eae82992d89d0798a31e6520e891fedb9505138cb850425163c1d2eb33f02c0cf376f5d27314b0d3f3eba05f989bdcd93b5443ce79cf0203010001\n",
      "-----\n",
      "value: 7.0\n",
      "-----\n",
      "time: 2021-02-10 16:36:41.125929\n",
      "-----\n",
      "--------------\n",
      "sender: 30819f300d06092a864886f70d010101050003818d0030818902818100e6bc2540132ba2b41c3d6a291b595fbafd6b24f6fec52f539f09ecfc37fc0f59e3bcfd718d2bacc1db502b85da95a718417739617df0a4387b7e9ffea7130947c53e24acb2581e6fb5f9e6593e7e4bc381239192249b6aefe86d49a1fcaf321d962676c5891d613d5bf72961728e2503ddb8b0c903760c5a831fa69f4beeb7890203010001\n",
      "-----\n",
      "recipient: 30819f300d06092a864886f70d010101050003818d0030818902818100ad5e2a9f0fc8178b5b0db232374a6d9ed1165ea441a6cf39667eb2aae77116dbcbbd080b3dbd77eec5d411c884400653b6cdbb2023e7146852efe3653f52e35b539a93436822b6e81e2cc1ea7ce78111c03ced7015f26f16439d2ef8aae69717d872744eb64de346620b5a744db22939a7f22f48d4e052884e10ff0155b83ec90203010001\n",
      "-----\n",
      "value: 3.0\n",
      "-----\n",
      "time: 2021-02-10 16:36:41.128944\n",
      "-----\n",
      "--------------\n",
      "block # 3\n",
      "sender: 30819f300d06092a864886f70d010101050003818d0030818902818100ad5e2a9f0fc8178b5b0db232374a6d9ed1165ea441a6cf39667eb2aae77116dbcbbd080b3dbd77eec5d411c884400653b6cdbb2023e7146852efe3653f52e35b539a93436822b6e81e2cc1ea7ce78111c03ced7015f26f16439d2ef8aae69717d872744eb64de346620b5a744db22939a7f22f48d4e052884e10ff0155b83ec90203010001\n",
      "-----\n",
      "recipient: 30819f300d06092a864886f70d010101050003818d00308189028181009c25cc73c60423bd346ef3e5e3827d1be17651481e44350216471f1296c875c9d2d64e0cce0a6b7d0ec7bb322296741050b92f661ae32bf3bd1a59281bc695a37809836b6e0109a2cbf66fb88b095d90b472ba0a2696b7f0e192b6ff3c5bf1b2a28bb8d7e25c1497be670f9c98e6e7c3b04170122b7a6169d57da58977daf1c90203010001\n",
      "-----\n",
      "value: 8.0\n",
      "-----\n",
      "time: 2021-02-10 16:36:41.133898\n",
      "-----\n",
      "--------------\n",
      "sender: 30819f300d06092a864886f70d010101050003818d0030818902818100c5395b48968850f48a9e736655b1011775821b16dd5022b831e7236c2206477e13eb9341a2930389030598b031ec9731f1bd3b58b7ccc44ae6ee10b22eb0ad30b2fc3ae8d00b27e250b53d34ad2a88641198255e2f725bdfaa16b2e093fde1bd52c53f1678ead2feca52c2fbfae4ced0029db964136b2b3acdce9b4aa327a3ed0203010001\n",
      "-----\n",
      "recipient: 30819f300d06092a864886f70d010101050003818d00308189028181009c25cc73c60423bd346ef3e5e3827d1be17651481e44350216471f1296c875c9d2d64e0cce0a6b7d0ec7bb322296741050b92f661ae32bf3bd1a59281bc695a37809836b6e0109a2cbf66fb88b095d90b472ba0a2696b7f0e192b6ff3c5bf1b2a28bb8d7e25c1497be670f9c98e6e7c3b04170122b7a6169d57da58977daf1c90203010001\n",
      "-----\n",
      "value: 1.0\n",
      "-----\n",
      "time: 2021-02-10 16:36:41.137887\n",
      "-----\n",
      "--------------\n",
      "sender: 30819f300d06092a864886f70d010101050003818d00308189028181009c25cc73c60423bd346ef3e5e3827d1be17651481e44350216471f1296c875c9d2d64e0cce0a6b7d0ec7bb322296741050b92f661ae32bf3bd1a59281bc695a37809836b6e0109a2cbf66fb88b095d90b472ba0a2696b7f0e192b6ff3c5bf1b2a28bb8d7e25c1497be670f9c98e6e7c3b04170122b7a6169d57da58977daf1c90203010001\n",
      "-----\n",
      "recipient: 30819f300d06092a864886f70d010101050003818d0030818902818100ad5e2a9f0fc8178b5b0db232374a6d9ed1165ea441a6cf39667eb2aae77116dbcbbd080b3dbd77eec5d411c884400653b6cdbb2023e7146852efe3653f52e35b539a93436822b6e81e2cc1ea7ce78111c03ced7015f26f16439d2ef8aae69717d872744eb64de346620b5a744db22939a7f22f48d4e052884e10ff0155b83ec90203010001\n",
      "-----\n",
      "value: 5.0\n",
      "-----\n",
      "time: 2021-02-10 16:36:41.141876\n",
      "-----\n",
      "--------------\n",
      "=====================================\n"
     ]
    }
   ],
   "source": [
    "dump_blockchain(SATANCoins)"
   ]
  },
  {
   "cell_type": "code",
   "execution_count": null,
   "metadata": {},
   "outputs": [],
   "source": []
  }
 ],
 "metadata": {
  "kernelspec": {
   "display_name": "Python 3",
   "language": "python",
   "name": "python3"
  },
  "language_info": {
   "codemirror_mode": {
    "name": "ipython",
    "version": 3
   },
   "file_extension": ".py",
   "mimetype": "text/x-python",
   "name": "python",
   "nbconvert_exporter": "python",
   "pygments_lexer": "ipython3",
   "version": "3.7.4"
  }
 },
 "nbformat": 4,
 "nbformat_minor": 2
}
