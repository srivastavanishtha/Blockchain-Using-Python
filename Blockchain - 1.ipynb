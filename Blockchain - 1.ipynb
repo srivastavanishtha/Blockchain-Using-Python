{
 "cells": [
  {
   "cell_type": "code",
   "execution_count": 2,
   "metadata": {},
   "outputs": [],
   "source": [
    "import hashlib"
   ]
  },
  {
   "cell_type": "code",
   "execution_count": 3,
   "metadata": {},
   "outputs": [],
   "source": [
    "class Block:\n",
    "    def __init__(self, previous_hash, transaction):\n",
    "        self.transaction=transaction\n",
    "        self.previous_hash=previous_hash\n",
    "        string_to_hash = \"\".join(transaction)+previous_hash\n",
    "        self.block_hash=hashlib.sha256(string_to_hash.encode()).hexdigest()"
   ]
  },
  {
   "cell_type": "code",
   "execution_count": 4,
   "metadata": {},
   "outputs": [],
   "source": [
    "blockchain =[]"
   ]
  },
  {
   "cell_type": "code",
   "execution_count": 5,
   "metadata": {},
   "outputs": [
    {
     "name": "stdout",
     "output_type": "stream",
     "text": [
      "9b81afffa622fcb7c99f0388ff124e0eba237447699827cde389569b20b128e1\n"
     ]
    }
   ],
   "source": [
    "genesis_block=Block(\"Tanishq Mehta check genesis abcddhdj...\", [\"A sent 1 BTC to B\", \"B sent 1 BTC to C\", \"C sent 1 BTC to D\", \"D sent 1 BTC to E\"])\n",
    "print (genesis_block.block_hash)"
   ]
  },
  {
   "cell_type": "code",
   "execution_count": 6,
   "metadata": {},
   "outputs": [
    {
     "name": "stdout",
     "output_type": "stream",
     "text": [
      "92c30237dc283b3a72e2880811513cfd56b49286e2834319fae1366e999f44b9\n"
     ]
    }
   ],
   "source": [
    "second_block=Block(genesis_block.block_hash,[\"F sent 5 BTC to E\", \"E sent 56 BTC to 10op\"])\n",
    "print (second_block.block_hash)"
   ]
  },
  {
   "cell_type": "code",
   "execution_count": 7,
   "metadata": {},
   "outputs": [
    {
     "name": "stdout",
     "output_type": "stream",
     "text": [
      "3c5eb8e9f42e70b3d3a7f0d48d34ff08b37474e21d354eea34949acdacc64c37\n"
     ]
    }
   ],
   "source": [
    "third_block=Block(genesis_block.block_hash,[\"As\", \"B D\"])\n",
    "print(third_block.block_hash)"
   ]
  },
  {
   "cell_type": "code",
   "execution_count": 8,
   "metadata": {},
   "outputs": [
    {
     "name": "stdout",
     "output_type": "stream",
     "text": [
      "fd4cd7f57aa5be044380c65cf81b285d5b9e973d5c5262e29c1285059dba351c\n"
     ]
    }
   ],
   "source": [
    "fourth_block=Block(genesis_block.block_hash,[\"asdf\", \"asdwfedg\"])\n",
    "print(fourth_block.block_hash)"
   ]
  },
  {
   "cell_type": "code",
   "execution_count": null,
   "metadata": {},
   "outputs": [],
   "source": []
  },
  {
   "cell_type": "code",
   "execution_count": null,
   "metadata": {},
   "outputs": [],
   "source": []
  }
 ],
 "metadata": {
  "kernelspec": {
   "display_name": "Python 3",
   "language": "python",
   "name": "python3"
  },
  "language_info": {
   "codemirror_mode": {
    "name": "ipython",
    "version": 3
   },
   "file_extension": ".py",
   "mimetype": "text/x-python",
   "name": "python",
   "nbconvert_exporter": "python",
   "pygments_lexer": "ipython3",
   "version": "3.7.4"
  }
 },
 "nbformat": 4,
 "nbformat_minor": 2
}
